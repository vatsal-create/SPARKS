{
  "nbformat": 4,
  "nbformat_minor": 0,
  "metadata": {
    "colab": {
      "name": "SPARKS_INTERNSHIP_TASK1.ipynb",
      "provenance": [],
      "collapsed_sections": [],
      "authorship_tag": "ABX9TyPWzIr4zXkIOeMzioiLUh/y",
      "include_colab_link": true
    },
    "kernelspec": {
      "name": "python3",
      "display_name": "Python 3"
    },
    "accelerator": "GPU"
  },
  "cells": [
    {
      "cell_type": "markdown",
      "metadata": {
        "id": "view-in-github",
        "colab_type": "text"
      },
      "source": [
        "<a href=\"https://colab.research.google.com/github/vatsal-create/SPARKS/blob/main/SPARKS_INTERNSHIP_TASK1.ipynb\" target=\"_parent\"><img src=\"https://colab.research.google.com/assets/colab-badge.svg\" alt=\"Open In Colab\"/></a>"
      ]
    },
    {
      "cell_type": "markdown",
      "metadata": {
        "id": "u924-_oFooPx"
      },
      "source": [
        "**IMPORTING THE NECESSARY LIBRARIES**\n",
        "\n",
        "THE LIBRARIES REQUIRED FOR THIS TASK HAVE BEEN IMPORTED IN THE CELL BELOW. THESE LIBRARIRES ARE NUMPY, MATPLOTLIB,PANDAS AND SCIKIT-LEARN"
      ]
    },
    {
      "cell_type": "markdown",
      "metadata": {
        "id": "gneSAC2JwFj1"
      },
      "source": [
        "AUTHOR: VATSAL OJHA, 2ND YEAR CSE UNDEGRAD AT IIT(ISM) DHANBAD"
      ]
    },
    {
      "cell_type": "code",
      "metadata": {
        "id": "LoSnVE3Ie7hA"
      },
      "source": [
        "import numpy as np\n",
        "import matplotlib.pyplot as plt\n",
        "import pandas as pd\n",
        "import sklearn\n",
        "from sklearn.linear_model import LinearRegression\n",
        "from sklearn import metrics"
      ],
      "execution_count": null,
      "outputs": []
    },
    {
      "cell_type": "markdown",
      "metadata": {
        "id": "d5n8Z-RGpJPh"
      },
      "source": [
        "**READING THE DATA**\n",
        "\n",
        "THE REQUIRED DATA IS IN A REMOTE LOACTION.IN ORDER TO READ THE DATA FROM THAT LOACTION INTO A CSV FILE I HAVE USED THE READ_CSV FUNCTION WITH THE URL AS ITS INPUT. THE DATA VARIABLE NOW CONTAINS THE ENTIRE DATA"
      ]
    },
    {
      "cell_type": "code",
      "metadata": {
        "colab": {
          "base_uri": "https://localhost:8080/",
          "height": 799
        },
        "id": "3-MezWFlfA84",
        "outputId": "adf2e798-ed0d-4961-cb34-06e82a23a028"
      },
      "source": [
        "data=pd.read_csv('https://raw.githubusercontent.com/AdiPersonalWorks/Random/master/student_scores%20-%20student_scores.csv')\n",
        "data"
      ],
      "execution_count": null,
      "outputs": [
        {
          "output_type": "execute_result",
          "data": {
            "text/html": [
              "<div>\n",
              "<style scoped>\n",
              "    .dataframe tbody tr th:only-of-type {\n",
              "        vertical-align: middle;\n",
              "    }\n",
              "\n",
              "    .dataframe tbody tr th {\n",
              "        vertical-align: top;\n",
              "    }\n",
              "\n",
              "    .dataframe thead th {\n",
              "        text-align: right;\n",
              "    }\n",
              "</style>\n",
              "<table border=\"1\" class=\"dataframe\">\n",
              "  <thead>\n",
              "    <tr style=\"text-align: right;\">\n",
              "      <th></th>\n",
              "      <th>Hours</th>\n",
              "      <th>Scores</th>\n",
              "    </tr>\n",
              "  </thead>\n",
              "  <tbody>\n",
              "    <tr>\n",
              "      <th>0</th>\n",
              "      <td>2.5</td>\n",
              "      <td>21</td>\n",
              "    </tr>\n",
              "    <tr>\n",
              "      <th>1</th>\n",
              "      <td>5.1</td>\n",
              "      <td>47</td>\n",
              "    </tr>\n",
              "    <tr>\n",
              "      <th>2</th>\n",
              "      <td>3.2</td>\n",
              "      <td>27</td>\n",
              "    </tr>\n",
              "    <tr>\n",
              "      <th>3</th>\n",
              "      <td>8.5</td>\n",
              "      <td>75</td>\n",
              "    </tr>\n",
              "    <tr>\n",
              "      <th>4</th>\n",
              "      <td>3.5</td>\n",
              "      <td>30</td>\n",
              "    </tr>\n",
              "    <tr>\n",
              "      <th>5</th>\n",
              "      <td>1.5</td>\n",
              "      <td>20</td>\n",
              "    </tr>\n",
              "    <tr>\n",
              "      <th>6</th>\n",
              "      <td>9.2</td>\n",
              "      <td>88</td>\n",
              "    </tr>\n",
              "    <tr>\n",
              "      <th>7</th>\n",
              "      <td>5.5</td>\n",
              "      <td>60</td>\n",
              "    </tr>\n",
              "    <tr>\n",
              "      <th>8</th>\n",
              "      <td>8.3</td>\n",
              "      <td>81</td>\n",
              "    </tr>\n",
              "    <tr>\n",
              "      <th>9</th>\n",
              "      <td>2.7</td>\n",
              "      <td>25</td>\n",
              "    </tr>\n",
              "    <tr>\n",
              "      <th>10</th>\n",
              "      <td>7.7</td>\n",
              "      <td>85</td>\n",
              "    </tr>\n",
              "    <tr>\n",
              "      <th>11</th>\n",
              "      <td>5.9</td>\n",
              "      <td>62</td>\n",
              "    </tr>\n",
              "    <tr>\n",
              "      <th>12</th>\n",
              "      <td>4.5</td>\n",
              "      <td>41</td>\n",
              "    </tr>\n",
              "    <tr>\n",
              "      <th>13</th>\n",
              "      <td>3.3</td>\n",
              "      <td>42</td>\n",
              "    </tr>\n",
              "    <tr>\n",
              "      <th>14</th>\n",
              "      <td>1.1</td>\n",
              "      <td>17</td>\n",
              "    </tr>\n",
              "    <tr>\n",
              "      <th>15</th>\n",
              "      <td>8.9</td>\n",
              "      <td>95</td>\n",
              "    </tr>\n",
              "    <tr>\n",
              "      <th>16</th>\n",
              "      <td>2.5</td>\n",
              "      <td>30</td>\n",
              "    </tr>\n",
              "    <tr>\n",
              "      <th>17</th>\n",
              "      <td>1.9</td>\n",
              "      <td>24</td>\n",
              "    </tr>\n",
              "    <tr>\n",
              "      <th>18</th>\n",
              "      <td>6.1</td>\n",
              "      <td>67</td>\n",
              "    </tr>\n",
              "    <tr>\n",
              "      <th>19</th>\n",
              "      <td>7.4</td>\n",
              "      <td>69</td>\n",
              "    </tr>\n",
              "    <tr>\n",
              "      <th>20</th>\n",
              "      <td>2.7</td>\n",
              "      <td>30</td>\n",
              "    </tr>\n",
              "    <tr>\n",
              "      <th>21</th>\n",
              "      <td>4.8</td>\n",
              "      <td>54</td>\n",
              "    </tr>\n",
              "    <tr>\n",
              "      <th>22</th>\n",
              "      <td>3.8</td>\n",
              "      <td>35</td>\n",
              "    </tr>\n",
              "    <tr>\n",
              "      <th>23</th>\n",
              "      <td>6.9</td>\n",
              "      <td>76</td>\n",
              "    </tr>\n",
              "    <tr>\n",
              "      <th>24</th>\n",
              "      <td>7.8</td>\n",
              "      <td>86</td>\n",
              "    </tr>\n",
              "  </tbody>\n",
              "</table>\n",
              "</div>"
            ],
            "text/plain": [
              "    Hours  Scores\n",
              "0     2.5      21\n",
              "1     5.1      47\n",
              "2     3.2      27\n",
              "3     8.5      75\n",
              "4     3.5      30\n",
              "5     1.5      20\n",
              "6     9.2      88\n",
              "7     5.5      60\n",
              "8     8.3      81\n",
              "9     2.7      25\n",
              "10    7.7      85\n",
              "11    5.9      62\n",
              "12    4.5      41\n",
              "13    3.3      42\n",
              "14    1.1      17\n",
              "15    8.9      95\n",
              "16    2.5      30\n",
              "17    1.9      24\n",
              "18    6.1      67\n",
              "19    7.4      69\n",
              "20    2.7      30\n",
              "21    4.8      54\n",
              "22    3.8      35\n",
              "23    6.9      76\n",
              "24    7.8      86"
            ]
          },
          "metadata": {
            "tags": []
          },
          "execution_count": 114
        }
      ]
    },
    {
      "cell_type": "markdown",
      "metadata": {
        "id": "Ux6OdCjyp6jc"
      },
      "source": [
        "**EXTRACTING THE REQUIRED IMFORMATION FROM THE DATA**\n",
        "\n",
        "NOW THAT I HAVE PREPARED A DATASET CONTAINING THE COLUMNS OF HOURS AND SCORES I NEED TO CREATE SEPARATE NUMPY ARRAYS FOR FEATURES AND VALUES RESPECTIVELY.THE LINEAR REGRESSION I ATTEMPT TO CREATE LATER WOULD REQUIRE THESE.I HAVE ALSO CREATED A VERY SMALL TEST SET CONTAING ONLY THE LAST TWO ROWS OF THE DATASET.THE REASON FOR A VERY SMALL TEST SET IS THAT THE DATASET ITSELF IS QUITE SMALL AND HENCE I MUST PROVIDE MAXIMUM DATA FOR TRAINING THE MODEL SO AS TO HAVE BETTER RESULTS."
      ]
    },
    {
      "cell_type": "code",
      "metadata": {
        "colab": {
          "base_uri": "https://localhost:8080/"
        },
        "id": "-8tk8XoqfN1c",
        "outputId": "6aada552-3be0-435d-f07f-dbb656a7a993"
      },
      "source": [
        "x=data[\"Hours\"]\n",
        "y=data[\"Scores\"]\n",
        "x=x.to_numpy() #CONVERTING THE SERIES OBJECT INTO A NUMPY ARRAY \n",
        "x=x.reshape((-1,1)) #RESHAPING THE NUMPY ARRAY TO BE OF THE FORM(N,1) INSTEAD OF THE FORM(N,)\n",
        "y=y.to_numpy() #CONVERTING THE SERIES OBJECT INTO A NUMPY ARRAY\n",
        "x_train=x[:23] #THE TRAINING FEATURES\n",
        "y_train=y[:23] #CORRESPONDING CORRECT RESULTS FOR TRAINING\n",
        "print(x.shape)\n",
        "print(y.shape)\n",
        "print(x_train)\n",
        "print(y_train)"
      ],
      "execution_count": null,
      "outputs": [
        {
          "output_type": "stream",
          "text": [
            "(25, 1)\n",
            "(25,)\n",
            "[[2.5]\n",
            " [5.1]\n",
            " [3.2]\n",
            " [8.5]\n",
            " [3.5]\n",
            " [1.5]\n",
            " [9.2]\n",
            " [5.5]\n",
            " [8.3]\n",
            " [2.7]\n",
            " [7.7]\n",
            " [5.9]\n",
            " [4.5]\n",
            " [3.3]\n",
            " [1.1]\n",
            " [8.9]\n",
            " [2.5]\n",
            " [1.9]\n",
            " [6.1]\n",
            " [7.4]\n",
            " [2.7]\n",
            " [4.8]\n",
            " [3.8]]\n",
            "[21 47 27 75 30 20 88 60 81 25 85 62 41 42 17 95 30 24 67 69 30 54 35]\n"
          ],
          "name": "stdout"
        }
      ]
    },
    {
      "cell_type": "markdown",
      "metadata": {
        "id": "Eg8ASYAKr3on"
      },
      "source": [
        "**PLOTTING THE GIVEN DATASET**\n",
        "\n",
        "IN ORDER TO HAVE A BETTER UNDERSTANDING OF THE DATASET ONE MUST PLOT THEM."
      ]
    },
    {
      "cell_type": "code",
      "metadata": {
        "colab": {
          "base_uri": "https://localhost:8080/",
          "height": 295
        },
        "id": "95yiEHmmlG1r",
        "outputId": "b3a52915-99ff-4982-d2aa-74413094d377"
      },
      "source": [
        "data.plot(x=\"Hours\",y=\"Scores\",style='o')\n",
        "plt.title(\"DATASET\")\n",
        "plt.ylabel(\"PERCENTAGE SCORES\")\n",
        "plt.xlabel(\"NUMBER OF HOURS\")\n",
        "plt.show()"
      ],
      "execution_count": null,
      "outputs": [
        {
          "output_type": "display_data",
          "data": {
            "image/png": "[encoded data removed]",
            "text/plain": [
              "<Figure size 432x288 with 1 Axes>"
            ]
          },
          "metadata": {
            "tags": [],
            "needs_background": "light"
          }
        }
      ]
    },
    {
      "cell_type": "markdown",
      "metadata": {
        "id": "J1wJMx7-sEFG"
      },
      "source": [
        "**THE MODEL**\n",
        "\n",
        "I HAVE USED THE LINEAR REGRESSION MODEL OF THE SKLEARN LIBRARY TRAIN THE DATA.\n",
        "THE SAME COULD HAVE ALSO BEEN IMPLENTED BY CREATING A BRUTE-FORCE APPROACH FOR EACH STEP, BUT THAT WOULD HAVE BEEN TO TEDIOUS TO DO, SO I RATHER PREFERRED THE PRE-BUILD FUNCTION OF THE SCIKIT-LEARN LIBRARY"
      ]
    },
    {
      "cell_type": "code",
      "metadata": {
        "colab": {
          "base_uri": "https://localhost:8080/"
        },
        "id": "Y8nnRY93gnvx",
        "outputId": "6670c877-e981-403d-b874-3e2fa11c3fc1"
      },
      "source": [
        "model=LinearRegression()\n",
        "model.fit(x_train,y_train) #FITING THE MODEL ONTO THE TRAINING DATASET"
      ],
      "execution_count": null,
      "outputs": [
        {
          "output_type": "execute_result",
          "data": {
            "text/plain": [
              "LinearRegression(copy_X=True, fit_intercept=True, n_jobs=None, normalize=False)"
            ]
          },
          "metadata": {
            "tags": []
          },
          "execution_count": 122
        }
      ]
    },
    {
      "cell_type": "markdown",
      "metadata": {
        "id": "kh4c71-Uspqb"
      },
      "source": [
        "THIS BEING A LINEAR REGRESSION MODEL TRAINED ON A SINGLE FEATURE, THAT IS NUMBER OF HOURS PUT IN BY A STUDENT IN HIS STUDIES , WE EXPECT TO GET A ONE-VALUE COEFF AND A ONE-VALUE INTERCEPT"
      ]
    },
    {
      "cell_type": "code",
      "metadata": {
        "colab": {
          "base_uri": "https://localhost:8080/"
        },
        "id": "OhgufwY8id9D",
        "outputId": "1c7bb687-63a2-41e7-f151-21acee63c012"
      },
      "source": [
        "coef=model.coef_\n",
        "intercept=model.intercept_\n",
        "print(\"COEFFICIENT:\",coef)\n",
        "print(\"INTERCEPT:\",intercept)"
      ],
      "execution_count": null,
      "outputs": [
        {
          "output_type": "stream",
          "text": [
            "COEFFICIENT: [9.53129151]\n",
            "INTERCEPT: 3.0799634226964585\n"
          ],
          "name": "stdout"
        }
      ]
    },
    {
      "cell_type": "markdown",
      "metadata": {
        "id": "zrGYV2J9tYzH"
      },
      "source": [
        "**PLOTTING THE RESULT**\n",
        "\n",
        "NOW THAT I HAVE FIT THE MODEL ONTO THE TRAINING DATASET, I CAN CREATE THE REGRESSION LINE USING THE SIMPLE FORMULA OF Y=MX+C. THIS REGRESSION LINE IS THEN PLOTTED ALONG WITH THE DATASET INITIALLY GIVEN. THE DOTS REPRESENT THE CORRECT ANSWER WHEREAS THE CORRESPONDING Y INTERCEPT OF A GIVEN X PRESENT THE PREDICTED VALUE."
      ]
    },
    {
      "cell_type": "code",
      "metadata": {
        "colab": {
          "base_uri": "https://localhost:8080/",
          "height": 295
        },
        "id": "1y7cmMHqoRe3",
        "outputId": "b03b13ac-8ed3-4fcc-df59-72d6d57b289a"
      },
      "source": [
        "line = model.coef_*x+model.intercept_\n",
        "plt.scatter(x,y)\n",
        "plt.plot(x, line);\n",
        "plt.title(\"RESULT\")\n",
        "plt.xlabel(\"HOURS\")\n",
        "plt.ylabel(\"PERCENTAGE SCORES\")\n",
        "plt.show()"
      ],
      "execution_count": null,
      "outputs": [
        {
          "output_type": "display_data",
          "data": {
            "image/png": "[encoded data removed]",
            "text/plain": [
              "<Figure size 432x288 with 1 Axes>"
            ]
          },
          "metadata": {
            "tags": [],
            "needs_background": "light"
          }
        }
      ]
    },
    {
      "cell_type": "markdown",
      "metadata": {
        "id": "oDndeOlruojI"
      },
      "source": [
        "NOW, I PRINT THE PREDICTIONS MADE ON THE TEST DATASET ALONG WITH THE ORIGINAL VALUES GIVEN FOR THEM"
      ]
    },
    {
      "cell_type": "code",
      "metadata": {
        "colab": {
          "base_uri": "https://localhost:8080/"
        },
        "id": "MPW591lkiq2L",
        "outputId": "51e88894-5b3c-4a19-edac-09c7bfa861b9"
      },
      "source": [
        "x_test=x[23:]\n",
        "y_test=y[23:]\n",
        "print(type(x_test))\n",
        "print(x_test.shape)\n",
        "y_pred=model.predict(x_test)\n",
        "print(\"PREDICTED VALUES:\",y_pred)\n",
        "print(\"GIVEN VALUES:\",y_test)"
      ],
      "execution_count": null,
      "outputs": [
        {
          "output_type": "stream",
          "text": [
            "<class 'numpy.ndarray'>\n",
            "(2, 1)\n",
            "PREDICTED VALUES: [68.84587486 77.42403722]\n",
            "GIVEN VALUES: [76 86]\n"
          ],
          "name": "stdout"
        }
      ]
    },
    {
      "cell_type": "markdown",
      "metadata": {
        "id": "U0Em1VIAvEay"
      },
      "source": [
        "**PREDICTING FOR THE GIVEN VALUE**\n",
        "\n",
        "AS ASKED IN THE TASK, I HAVE PREDICTED THE SCORES FOR THE VALUE OF 9.25 HOURS.THE RESULTS ARE PRESENTED BELOW"
      ]
    },
    {
      "cell_type": "code",
      "metadata": {
        "colab": {
          "base_uri": "https://localhost:8080/"
        },
        "id": "8Ms6hlZEi4kb",
        "outputId": "ec5554f7-9550-4f7d-fa3e-2be2f34a9151"
      },
      "source": [
        "test_val=9.25\n",
        "test=np.array([test_val]).reshape((-1,1))\n",
        "print(test.shape)\n",
        "print(\"ANSWER:\",model.predict(test))"
      ],
      "execution_count": null,
      "outputs": [
        {
          "output_type": "stream",
          "text": [
            "(1, 1)\n",
            "ANSWER: [91.24440991]\n"
          ],
          "name": "stdout"
        }
      ]
    },
    {
      "cell_type": "markdown",
      "metadata": {
        "id": "ASvTW9nZvn2E"
      },
      "source": [
        "**MEAN ABSOLUTE ERROR**\n",
        "\n",
        "NEXT I HAVE PRESNTED THE MEAN ABSOLUTED ERROR OF THE MODEL FOR THE ENTIRE DATA"
      ]
    },
    {
      "cell_type": "code",
      "metadata": {
        "colab": {
          "base_uri": "https://localhost:8080/"
        },
        "id": "jq0C3z6djjy6",
        "outputId": "a51330a3-3ed9-4885-b702-74594611a438"
      },
      "source": [
        "pred=model.predict(x)\n",
        "print(\"MEAN ABSOLUTE ERROR:\",metrics.mean_absolute_error(y,pred))"
      ],
      "execution_count": null,
      "outputs": [
        {
          "output_type": "stream",
          "text": [
            "MEAN ABSOLUTE ERROR: 4.978516271339336\n"
          ],
          "name": "stdout"
        }
      ]
    },
    {
      "cell_type": "code",
      "metadata": {
        "id": "MIfCJZ1IkpZy"
      },
      "source": [
        ""
      ],
      "execution_count": null,
      "outputs": []
    }
  ]
}